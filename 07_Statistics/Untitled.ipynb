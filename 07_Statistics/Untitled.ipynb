{
 "cells": [
  {
   "cell_type": "markdown",
   "id": "46e7ed1c",
   "metadata": {},
   "source": [
    "## Statistics\n",
    "It is a collection of menthods foo collecting, manipulating, displaying, analyzing and interpreting data. "
   ]
  },
  {
   "cell_type": "markdown",
   "id": "f5d72eff",
   "metadata": {},
   "source": [
    "## Pyhton libraries for data science \n",
    "\n",
    "### Scientific computing\n",
    "- Pandas (Data structures and tools, 2D dataframes)\n",
    "- NumPy (Arrays and Matrices)\n",
    "- SciPy (Optimization and solving differential equations)\n",
    "\n",
    "### Data visualization\n",
    "- Matplotlib (Plots, graph, and figures)\n",
    "- Seaborn (Heat maps, time series, and other plots)\n",
    "\n",
    "### Machine learning algorithmic development\n",
    "- Scikit-learn (Machine learnig: regression, classification, clusturing analysis and so on...)\n",
    "- StatsmodelS (Explore data, estimation of statistical models, and statistical analysis)"
   ]
  },
  {
   "cell_type": "markdown",
   "id": "e2fe5cee",
   "metadata": {},
   "source": [
    "## Types of data\n"
   ]
  },
  {
   "cell_type": "markdown",
   "id": "20a60470",
   "metadata": {},
   "source": [
    "### Data types-1\n",
    "\n",
    "**Cross sectional data\n",
    "\n",
    "Data collected at one point, i.e., how many students attending live session today?).\n",
    "\n",
    "**Time series data\n",
    "\n",
    "(Data collected over different time points, i.e., how many students have been attending  live session from Jan-1 to Jan-15?).\n",
    "\n",
    "### Data types-2\n",
    "\n",
    "**Univariate data\n",
    "\n",
    "Data contains a single single variable to measure entity, i.e., checking effect of irrigation  on plant height).\n",
    "\n",
    "\n",
    "**Multi-variate data\n",
    "\n",
    "Data contains >2 varibales to measure something, i.e., checking effects of fertilizer amount and irrigation time on plant height).\n"
   ]
  },
  {
   "cell_type": "markdown",
   "id": "24044fa0",
   "metadata": {},
   "source": [
    "## Types of variables"
   ]
  },
  {
   "cell_type": "markdown",
   "id": "19268f92",
   "metadata": {},
   "source": [
    "### Variable types-1\n",
    "\n",
    "**Catagorical or nominal variable\n",
    "\n",
    "A categorical variable (sometimes called a nominal variable) is one that has two or more categories, but there is no intrinsic ordering to the categories.  For example, a binary variable (such as yes/no question) is a categorical variable having two categories (yes or no) and there is no intrinsic ordering to the categories.  Hair color is also a categorical variable having a number of categories (blonde, brown, brunette, red, etc.) and again, there is no agreed way to order these from highest to lowest.\n",
    "\n",
    "### variable types-2\n",
    "**Ordinal variable\n",
    "\n",
    "An ordinal variable is similar to a categorical variable.  The difference between the two is that there is a clear ordering of the categories.  For example, suppose you have a variable, economic status, with three categories (low, medium and high).  In addition to being able to classify people into these three categories, you can order the categories as low, medium and high.\n",
    "\n",
    "### Variable types-3\n",
    "\n",
    "**Ratio variable\n",
    "\n",
    "Ratio variable is a continuos variable and has natural zero in the data. For example, temperature, when measured in Kelvin is an example of ratio variables. \n",
    "\n",
    "### Variable types-4\n",
    "\n",
    "**Interval variables\n",
    "\n",
    "The interval variable is a measurement variable that is used to define values measured along a scale, with each point placed at an equal distance from one another.\n",
    "\n",
    "Examples:\n",
    "\n",
    "Mark Grading: When grading test scores like the SAT, for example, we use numbers as a reference point.  \n",
    "Time: Time, if measured using a 12-hour clock, or it is measured during the day is an example of interval data."
   ]
  },
  {
   "cell_type": "markdown",
   "id": "79101ab6",
   "metadata": {},
   "source": [
    "## Notions and Terms"
   ]
  },
  {
   "cell_type": "markdown",
   "id": "284df9f8",
   "metadata": {},
   "source": [
    "Population (N): A population is the pool of individuals from which a statistical sample is drawn for a study.\n",
    "\n",
    "Sample (n): A sample is an analytic subset of a larger population."
   ]
  },
  {
   "cell_type": "code",
   "execution_count": null,
   "id": "0400e188",
   "metadata": {},
   "outputs": [],
   "source": []
  }
 ],
 "metadata": {
  "kernelspec": {
   "display_name": "Python 3 (ipykernel)",
   "language": "python",
   "name": "python3"
  },
  "language_info": {
   "codemirror_mode": {
    "name": "ipython",
    "version": 3
   },
   "file_extension": ".py",
   "mimetype": "text/x-python",
   "name": "python",
   "nbconvert_exporter": "python",
   "pygments_lexer": "ipython3",
   "version": "3.9.12"
  }
 },
 "nbformat": 4,
 "nbformat_minor": 5
}
