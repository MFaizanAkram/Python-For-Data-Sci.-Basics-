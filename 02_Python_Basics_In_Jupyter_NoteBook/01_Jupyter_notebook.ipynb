{
 "cells": [
  {
   "cell_type": "markdown",
   "id": "c91360e2",
   "metadata": {},
   "source": [
    "# **01_first_program**"
   ]
  },
  {
   "cell_type": "code",
   "execution_count": 1,
   "id": "8432627b",
   "metadata": {
    "scrolled": true
   },
   "outputs": [
    {
     "name": "stdout",
     "output_type": "stream",
     "text": [
      "python with aammar\n",
      "we are leaning with aammar\n",
      "12\n"
     ]
    }
   ],
   "source": [
    "print(\"python with aammar\")\n",
    "print(\"we are leaning with aammar\")\n",
    "print(3+9)"
   ]
  },
  {
   "cell_type": "markdown",
   "id": "ef59698a",
   "metadata": {},
   "source": [
    "# **02_operators**"
   ]
  },
  {
   "cell_type": "code",
   "execution_count": 2,
   "id": "97f61a97",
   "metadata": {},
   "outputs": [
    {
     "name": "stdout",
     "output_type": "stream",
     "text": [
      "3\n",
      "2\n",
      "3.0\n",
      "6\n",
      "1\n",
      "3\n",
      "8\n",
      "1000\n",
      "51.0\n",
      "3\n"
     ]
    }
   ],
   "source": [
    "print(2+1)\n",
    "print(3-1)\n",
    "print(6/2)\n",
    "print(3*2)\n",
    "print(13%2)\n",
    "print(6//2)\n",
    "print(2**3)\n",
    "print(10**3)\n",
    "print(6**2/3*4-2+5)\n",
    "print(6//2)\n",
    "\n",
    "#PEMDAS\n",
    "#Parenthesis exponents multiplication division addition subtraction\n",
    "#letf to right sequence for Multiplication,division,addition and subtraction"
   ]
  },
  {
   "cell_type": "markdown",
   "id": "89ed3fa5",
   "metadata": {},
   "source": [
    "# **03_strings**"
   ]
  },
  {
   "cell_type": "code",
   "execution_count": 3,
   "id": "a6430728",
   "metadata": {},
   "outputs": [
    {
     "name": "stdout",
     "output_type": "stream",
     "text": [
      "python with aammar\n",
      "we are leaning with aammar\n",
      "12\n",
      "test for single qoutes\n",
      "test for double qoutes\n",
      "test for triple qoutes\n",
      "what's up\n"
     ]
    }
   ],
   "source": [
    "print(\"python with aammar\")\n",
    "print(\"we are leaning with aammar\")\n",
    "print(3+9)\n",
    "\n",
    "#types of strings\n",
    "#' '\n",
    "#\" \"\n",
    "#''' '''\n",
    "print('test for single qoutes')\n",
    "print(\"test for double qoutes\")\n",
    "print('''test for triple qoutes''')\n",
    "\n",
    "#why we use double qoutes instead of single\n",
    "print(\"what's up\")\n",
    "#Spaces don't impact the outer side of string but in inner side it has its effect.\n"
   ]
  },
  {
   "cell_type": "markdown",
   "id": "a10e8ad5",
   "metadata": {},
   "source": [
    "# **04_comments**\n",
    "The shortcut key to comment out is **shift + /**"
   ]
  },
  {
   "cell_type": "code",
   "execution_count": 4,
   "id": "b066096b",
   "metadata": {},
   "outputs": [
    {
     "name": "stdout",
     "output_type": "stream",
     "text": [
      "how are you?\n",
      "I am studying A-Levels from TMUC Gujranwala\n",
      "10\n",
      "1000\n"
     ]
    }
   ],
   "source": [
    "print(\"how are you?\") #print this string when relatives come.\n",
    "print(\"I am studying A-Levels from TMUC Gujranwala\") #print this while introduction.\n",
    "print(6+4) #print this when you are taking maths class.\n",
    "#press shift + / button to comment out.\n",
    "#comment out is used to know the use of line.\n",
    "#print(\"my name is faizan akram\")\n",
    "print(10**3) #remember this while your test."
   ]
  },
  {
   "cell_type": "markdown",
   "id": "e218fb4c",
   "metadata": {},
   "source": [
    "# **05_variables**"
   ]
  },
  {
   "cell_type": "code",
   "execution_count": 5,
   "id": "389ecfe4",
   "metadata": {},
   "outputs": [
    {
     "name": "stdout",
     "output_type": "stream",
     "text": [
      "7\n",
      "<class 'int'>\n",
      "Faizan\n",
      "17\n",
      "<class 'int'>\n",
      "<class 'str'>\n",
      "<class 'str'>\n",
      "<class 'int'>\n",
      "mangos,\n",
      "mangos, oranges\n",
      "8\n",
      "<class 'int'>\n"
     ]
    }
   ],
   "source": [
    "#Variables: objects which contains specific value\n",
    "x = 7 #numeric & integer variable\n",
    "print(x)\n",
    "print(type(x))\n",
    "f = \"Faizan\" #string variable\n",
    "print(f)\n",
    "\n",
    "x=x+10\n",
    "print(x)\n",
    "\n",
    "#Types/class of Variables\n",
    "type(x)\n",
    "print(type(x))\n",
    "\n",
    "type(f)\n",
    "print(type(f))\n",
    "print(type(f))\n",
    "print(type(x))\n",
    "#Rules to assign a Variable:\n",
    "#1: The variable should contains letters, numbers, and underscores\n",
    "#2: Don't start with numbers\n",
    "#3: Spaces are not allowed\n",
    "#4: Don't use keywords used in functions (break, mean, media, test etc)\n",
    "#5: Short and descriptive\n",
    "#6: Case senstivity (lowercase, uppercase letters)(lower case letters should be used)\n",
    "\n",
    "fruit_basket = \"mangos,\"\n",
    "print(fruit_basket)\n",
    "\n",
    "fruit_basket = \"mangos, oranges\"\n",
    "print(fruit_basket)\n",
    "\n",
    "fruit_basket = 8\n",
    "print(fruit_basket)\n",
    "\n",
    "#type\n",
    "print(type(fruit_basket))"
   ]
  },
  {
   "cell_type": "markdown",
   "id": "8b60f71c",
   "metadata": {},
   "source": [
    "# **06_input_variables**"
   ]
  },
  {
   "cell_type": "code",
   "execution_count": 6,
   "id": "c523b564",
   "metadata": {},
   "outputs": [
    {
     "name": "stdout",
     "output_type": "stream",
     "text": [
      "mangoes\n",
      "which is your favourite fruit? Mangoes\n",
      "Mangoes\n",
      "what is your name? Faizan\n",
      "Hello! Faizan\n",
      "what is your name? Faizan\n",
      "Hello! Faizan\n",
      "what is your name? Faizan\n",
      "how old are you? 17\n",
      "Asslam-U-Alaikum Faizan , you are still young\n",
      "what is your name? Faizan\n",
      "how old are you? 17\n",
      "what is your religion? Islam\n",
      "Assalm-U-Alaikum Faizan , hope you liked this post!\n"
     ]
    }
   ],
   "source": [
    "fruit_basket = \"mangoes\"\n",
    "print(fruit_basket)\n",
    "\n",
    "#input function simple:\n",
    "fruit_basket =input(\"which is your favourite fruit? \")\n",
    "print(fruit_basket)\n",
    "\n",
    "#input function of 2nd stage:\n",
    "name = input(\"what is your name? \")\n",
    "greetings= \"Hello!\"\n",
    "print(greetings, name)\n",
    "\n",
    "#Another way of stage 2 input function:\n",
    "name = input(\"what is your name? \")\n",
    "print(\"Hello!\", name)\n",
    "\n",
    "#3rd stage input function:\n",
    "name= input(\"what is your name? \")\n",
    "age= input(\"how old are you? \")\n",
    "greetings= \"Asslam-U-Alaikum\"\n",
    "print(greetings, name, \", you are still young\")\n",
    "#Another Example:\n",
    "name= input(\"what is your name? \")\n",
    "age= input(\"how old are you? \")\n",
    "religion= input(\"what is your religion? \")\n",
    "greetings= \"Assalm-U-Alaikum\"\n",
    "print(greetings, name,\", hope you liked this post!\")"
   ]
  },
  {
   "cell_type": "markdown",
   "id": "a956c90d",
   "metadata": {},
   "source": [
    "# **07_conditional_logics**"
   ]
  },
  {
   "cell_type": "code",
   "execution_count": 7,
   "id": "0a0c45b3",
   "metadata": {},
   "outputs": [
    {
     "name": "stdout",
     "output_type": "stream",
     "text": [
      "True\n",
      "False\n",
      "True\n",
      "False\n",
      "True\n",
      "True\n",
      "False\n",
      "how old is zeeshan? 5\n",
      "<class 'int'>\n",
      "True\n"
     ]
    }
   ],
   "source": [
    "# Logical opreators are either \"true or false\" or \"yes or no\" or \"0 or 1\"\n",
    "# equal to                            ==\n",
    "# not equal to                        !=\n",
    "# less than                           <\n",
    "# greater than                        >\n",
    "# less than and equal to              <=\n",
    "# greater than and equal to           >=\n",
    "\n",
    "# is 3 equal to 3?\n",
    "print(3==3)\n",
    "print(2!=2)\n",
    "print(4<7)\n",
    "print(9>11)\n",
    "print(3<=5)\n",
    "print(5>=3)\n",
    "\n",
    "# application of logical operators\n",
    "zeeshan_age= 5\n",
    "age_at_school= 7\n",
    "print(zeeshan_age==age_at_school)\n",
    "\n",
    "#Input function and logical operators\n",
    "age_at_school=5\n",
    "zeeshan_age= input(\"how old is zeeshan? \") #input function\n",
    "zeeshan_age=int(zeeshan_age) #type changed\n",
    "#Type:\n",
    "print(type(zeeshan_age)) \n",
    "print(zeeshan_age==age_at_school) #logical opertors \n"
   ]
  },
  {
   "cell_type": "markdown",
   "id": "daf5a780",
   "metadata": {},
   "source": [
    "# **08_type_conversion**"
   ]
  },
  {
   "cell_type": "code",
   "execution_count": 8,
   "id": "f61c8072",
   "metadata": {
    "scrolled": true
   },
   "outputs": [
    {
     "name": "stdout",
     "output_type": "stream",
     "text": [
      "<class 'int'>\n",
      "16.3 the type of x is: <class 'float'>\n",
      "what is your age? 5\n",
      "<class 'int'>\n",
      "5 <class 'str'>\n",
      "what is your age? 3\n",
      "3 <class 'float'>\n",
      "what is your name? Faizan\n",
      "Faizan <class 'str'>\n"
     ]
    }
   ],
   "source": [
    "x = 9              #Integer\n",
    "y = 7.3            #Float\n",
    "z = \"Hello!\"       #String\n",
    "\n",
    "print(type(x))\n",
    "#if we multiply/add interger with float. The answer will be in float.\n",
    "\n",
    "#implicit type conversion:\n",
    "x=x+y\n",
    "print(x ,\"the type of x is:\", type(x)) \n",
    "\n",
    "#explicit type conversion:\n",
    "age= input(\"what is your age? \")\n",
    "age=int(age)\n",
    "print(type(age))\n",
    "    #another way:\n",
    "print(age, type(str(age)))\n",
    "#integer don't convert point numbers(18.5)\n",
    "#to get point numbers(18.5), we need to write float to convert it into float no.\n",
    "age=input(\"what is your age? \")\n",
    "print(age, type(float(age)))\n",
    "\n",
    "#name\n",
    "name=input(\"what is your name? \")\n",
    "print(name, type(str(name)))"
   ]
  },
  {
   "cell_type": "markdown",
   "id": "257749c8",
   "metadata": {},
   "source": [
    "# **09_if_else_elif**"
   ]
  },
  {
   "cell_type": "code",
   "execution_count": 9,
   "id": "965a7917",
   "metadata": {},
   "outputs": [
    {
     "name": "stdout",
     "output_type": "stream",
     "text": [
      "You should take care of zeeshan, he is still a baby.\n",
      "he cannot join college\n"
     ]
    }
   ],
   "source": [
    "required_age_at_school = 5\n",
    "zeeshan_age = 1\n",
    "\n",
    "#can zeeshan go to school?\n",
    "if zeeshan_age==required_age_at_school:\n",
    "    print(\"zeeshan can go to school\")\n",
    "elif zeeshan_age>required_age_at_school:\n",
    "    print(\"He should join higher secondary school\")\n",
    "elif zeeshan_age <= 2:\n",
    "    print(\"You should take care of zeeshan, he is still a baby.\")        \n",
    "else:\n",
    "    print(\"zeeshan can't go to school\")\n",
    "#practise\n",
    "min_age_for_college=17\n",
    "Ali_age=16\n",
    "if Ali_age==min_age_for_college:\n",
    "    print('he can join the college')\n",
    "elif Ali_age<16:\n",
    "    print('he should join matriculation')\n",
    "elif Ali_age>17:\n",
    "    print('he should join university')\n",
    "else :\n",
    "    print('he cannot join college')"
   ]
  },
  {
   "cell_type": "markdown",
   "id": "bff41532",
   "metadata": {},
   "source": [
    "# **10_function**"
   ]
  },
  {
   "cell_type": "code",
   "execution_count": 10,
   "id": "e28c27af",
   "metadata": {},
   "outputs": [
    {
     "name": "stdout",
     "output_type": "stream",
     "text": [
      "I am learning python with aammar\n",
      "I am learning python with aammar\n",
      "I am learning python with aammar\n",
      "I am studying Alevel from TMUC\n",
      "I am studying Alevel from TMUC\n",
      "I am studying Alevel from TMUC\n",
      "I am studying Alevel from TMUC\n",
      "He is my elder brother\n",
      "He is my elder brother\n",
      "He is my elder brother\n",
      "faizan can join the school\n",
      "23\n"
     ]
    }
   ],
   "source": [
    "#Defining a function:\n",
    "# 1\n",
    "\n",
    "def print_faizan():\n",
    "    print(\"I am learning python with aammar\")\n",
    "    print(\"I am learning python with aammar\")\n",
    "    print(\"I am learning python with aammar\")      \n",
    "\n",
    "print_faizan()\n",
    "\n",
    "# 2\n",
    "def print_hamza():\n",
    "    text=\"I am studying Alevel from TMUC\"\n",
    "    print(text)\n",
    "    print(text)\n",
    "    print(text)\n",
    "    print(text)\n",
    "\n",
    "print_hamza()   \n",
    "\n",
    "# 3\n",
    "def print_zeeshan(text):\n",
    "    print(text) \n",
    "    print(text)\n",
    "    print(text)\n",
    "\n",
    "print_zeeshan(\"He is my elder brother\")\n",
    "\n",
    "#Defining a function with if, else and elif statements:\n",
    "def school_calculator(age, text):\n",
    "    if age==5:\n",
    "            print(\"faizan can join the school\")\n",
    "    elif age>5:\n",
    "            print(\"he should go to higher school\")\n",
    "    else:\n",
    "            print(\"he is still a baby\")\n",
    "school_calculator(5, \"faizan\")\n",
    "\n",
    "#Defining a function of Future:\n",
    "def future_age(age):\n",
    "    new_age=age+20\n",
    "    return new_age\n",
    "    print(new_age)\n",
    "future_predicted_age=future_age(3) \n",
    "print(future_predicted_age)"
   ]
  },
  {
   "cell_type": "markdown",
   "id": "0ec3d530",
   "metadata": {},
   "source": [
    "# **11_loops**"
   ]
  },
  {
   "cell_type": "code",
   "execution_count": 11,
   "id": "c8d9e7a8",
   "metadata": {},
   "outputs": [
    {
     "name": "stdout",
     "output_type": "stream",
     "text": [
      "0\n",
      "3\n",
      "6\n",
      "9\n",
      "3\n",
      "4\n",
      "5\n",
      "6\n",
      "7\n",
      "8\n",
      "mon\n",
      "tue\n",
      "wed\n",
      "thu\n",
      "sat\n",
      "sun\n"
     ]
    }
   ],
   "source": [
    "#There are 2 type of loops:\n",
    "\n",
    "#1: while loops:\n",
    "x=0\n",
    "while (x<10):\n",
    "    print(x)\n",
    "    x=x+3\n",
    "\n",
    "#2: For loop:\n",
    "for x in range(3,9):\n",
    "    print(x)\n",
    "    \n",
    "#Array\n",
    "\n",
    "days = [\"mon\", \"tue\", \"wed\", \"thu\", \"fri\", \"sat\", \"sun\"]\n",
    "for d in days:\n",
    "    #if (d==\"fri\"): break #loop stops\n",
    "    if (d==\"fri\"): continue #skips d\n",
    "    print(d)"
   ]
  },
  {
   "cell_type": "markdown",
   "id": "d0d05912",
   "metadata": {},
   "source": [
    "# **12_import_libraries**"
   ]
  },
  {
   "cell_type": "code",
   "execution_count": 12,
   "id": "863aebc7",
   "metadata": {},
   "outputs": [
    {
     "name": "stdout",
     "output_type": "stream",
     "text": [
      "The value of pi is  3.141592653589793\n",
      "225\n"
     ]
    }
   ],
   "source": [
    "#if you want to print the value of pi:\n",
    "\n",
    "import math\n",
    "print(\"The value of pi is \", math.pi)\n",
    "\n",
    "import statistics\n",
    "x =[150,200,250,300]\n",
    "print(statistics.mean(x))\n",
    "\n",
    "#important labraries:\n",
    "# numpy, and pandas"
   ]
  },
  {
   "cell_type": "markdown",
   "id": "913a733d",
   "metadata": {},
   "source": [
    "# **13_trouble_shooting**"
   ]
  },
  {
   "cell_type": "code",
   "execution_count": 13,
   "id": "575d8954",
   "metadata": {},
   "outputs": [
    {
     "name": "stdout",
     "output_type": "stream",
     "text": [
      "hello Faizan\n"
     ]
    }
   ],
   "source": [
    "#print(I am learning python with Aammar)   #this is a santax error.\n",
    "\n",
    "#print(25/0) #runtime error\n",
    "\n",
    "name = \"Faizan\"\n",
    "print(\"hello\", name)\n",
    "#this is the most difficult error cuz we have to find mistake in every line."
   ]
  }
 ],
 "metadata": {
  "kernelspec": {
   "display_name": "Python 3 (ipykernel)",
   "language": "python",
   "name": "python3"
  },
  "language_info": {
   "codemirror_mode": {
    "name": "ipython",
    "version": 3
   },
   "file_extension": ".py",
   "mimetype": "text/x-python",
   "name": "python",
   "nbconvert_exporter": "python",
   "pygments_lexer": "ipython3",
   "version": "3.9.12"
  }
 },
 "nbformat": 4,
 "nbformat_minor": 5
}
