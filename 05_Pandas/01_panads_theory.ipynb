{
 "cells": [
  {
   "cell_type": "markdown",
   "id": "a9593557",
   "metadata": {},
   "source": [
    "## Pandas\n",
    "Pandas is a fast, powerful, flexible and easy to use open source data analysis and manipulation tool, built on top of the Python programming language.\n",
    "\n",
    "### Timeline\n",
    "- 2008: Development of pandas started\n",
    "- 2009: pandas becomes open source\n",
    "- 2012: First edition of Python for Data Analysis is published\n",
    "- 2015: pandas becomes a NumFOCUS sponsored project\n",
    "- 2018: First in-person core developer sprint\n",
    "\n",
    "### Uses\n",
    "- Data manipulation\n",
    "- Data analysis\n"
   ]
  },
  {
   "cell_type": "markdown",
   "id": "2ea08492",
   "metadata": {},
   "source": [
    "## Data manipulation\n",
    "Data manipulation is the process of manipulating or changing information to make it more organized and readable.\n",
    "\n",
    "### Data manipulation parts\n",
    "Raw data → clean up → filter → ignore or delete unnecessary data →\tcombine two or more datasets →\tsplit dataset →\tdealing with missing value → removing or taking duplicate values in a dataset →\tscraping →\tanalyzing organized data →\tdata visualization → report writing → presenting the results. "
   ]
  },
  {
   "cell_type": "markdown",
   "id": "28b7ee4a",
   "metadata": {},
   "source": [
    "## Data analysis\n",
    "Data analysis is the process of cleaning, changing, and processing raw data, and extracting actionable, relevant information that helps us to make informed decisions.\n",
    "- data driven policy making (methane, carbon dioxide, pollution) what policy should we make?\n",
    "- data driven decision making. Should we ban diesel cars? "
   ]
  },
  {
   "cell_type": "markdown",
   "id": "17a0a9b2",
   "metadata": {},
   "source": [
    "## Type of data analysis\n",
    "- Descriptive analysis: What happend?\n",
    "- Diagnostic analysis: why did it happend?\n",
    "- Predicted analysis: what is likely to happen in near future?\n",
    "- prescriptive analysis: what is the best course of action to take?"
   ]
  },
  {
   "cell_type": "markdown",
   "id": "8cd17678",
   "metadata": {},
   "source": [
    "## Pandas vs Excel\n",
    "- Dataframe: Worksheet\n",
    "- Series   : Colums\n",
    "- Index    : Row heading\n",
    "- Row      : Row\n",
    "- NaN      : Empty cells\n",
    "\n"
   ]
  }
 ],
 "metadata": {
  "kernelspec": {
   "display_name": "Python 3.9.12 ('base')",
   "language": "python",
   "name": "python3"
  },
  "language_info": {
   "codemirror_mode": {
    "name": "ipython",
    "version": 3
   },
   "file_extension": ".py",
   "mimetype": "text/x-python",
   "name": "python",
   "nbconvert_exporter": "python",
   "pygments_lexer": "ipython3",
   "version": "3.9.12"
  },
  "vscode": {
   "interpreter": {
    "hash": "fc9c408517bdc0f34c4d983e8761969fe884e17fdd05ce7c89d4d6e9d94efadf"
   }
  }
 },
 "nbformat": 4,
 "nbformat_minor": 5
}
